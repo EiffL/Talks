{
 "cells": [
  {
   "cell_type": "code",
   "execution_count": 1,
   "metadata": {},
   "outputs": [],
   "source": [
    "import daft \n",
    "\n",
    "from matplotlib import rc \n",
    "import matplotlib as plt"
   ]
  },
  {
   "cell_type": "code",
   "execution_count": 2,
   "metadata": {},
   "outputs": [],
   "source": [
    "rc(\"font\", family=\"serif\", size=12) \n",
    "rc(\"text\", usetex=True)\n",
    "#rc(\"axes\", edgecolor=\"white\")\n",
    "#plt.style.use('dark_background')"
   ]
  },
  {
   "cell_type": "code",
   "execution_count": 3,
   "metadata": {},
   "outputs": [],
   "source": [
    "# Complete model\n",
    "pgm = daft.PGM()\n",
    "pgm.add_node(\"theta\", r\"$\\theta$\", 3, 1.5)\n",
    "pgm.add_node(\"z\", r\"$z_n$\", 2, 2)\n",
    "pgm.add_node(\"psf\", r\"$\\Pi_n$\",1,1, fixed=True)\n",
    "pgm.add_node(\"ps\", r\"$\\Sigma_n$\",1,1.75, fixed=True)\n",
    "pgm.add_node(\"x\", r\"$x_n$\", 2, 1, observed=True) \n",
    "\n",
    "pgm.add_edge(\"z\", \"x\")\n",
    "pgm.add_edge(\"psf\", \"x\")\n",
    "pgm.add_edge(\"ps\", \"x\")\n",
    "pgm.add_edge(\"theta\", \"x\")\n",
    "\n",
    "pgm.add_plate([0.5, 0.5, 2, 2], label=r\"$n = 1, \\cdots, N$\", shift=-0.1)"
   ]
  },
  {
   "cell_type": "code",
   "execution_count": 4,
   "metadata": {},
   "outputs": [
    {
     "data": {
      "image/png": "[encoded data removed]",
      "text/plain": [
       "<Figure size 167.244x130.394 with 1 Axes>"
      ]
     },
     "metadata": {},
     "output_type": "display_data"
    }
   ],
   "source": [
    "pgm.render()\n",
    "pgm.savefig(\"pgm_full.svg\")"
   ]
  },
  {
   "cell_type": "code",
   "execution_count": 22,
   "metadata": {},
   "outputs": [],
   "source": [
    "# Model_0\n",
    "\n",
    "pgm = daft.PGM()\n",
    "# pgm.add_node(\"theta\", r\"$\\theta$\", 3, 1.5)\n",
    "# pgm.add_node(\"z\", r\"$z_n$\", 2, 2)\n",
    "# pgm.add_node(\"psf\", r\"$\\Pi_n$\",1,1, fixed=True)\n",
    "# pgm.add_node(\"ps\", r\"$\\Sigma_n$\",1,1.75, fixed=True)\n",
    "pgm.add_node(\"x\", r\"$x_n$\", 2, 1, observed=True) \n",
    "\n",
    "# pgm.add_edge(\"z\", \"x\")\n",
    "# pgm.add_edge(\"psf\", \"x\")\n",
    "# pgm.add_edge(\"ps\", \"x\")\n",
    "# pgm.add_edge(\"theta\", \"x\")\n",
    "\n",
    "pgm.add_plate([0.5, 0.5, 2, 2], label=r\"$n = 1, \\cdots, N$\", shift=-0.1)"
   ]
  },
  {
   "cell_type": "code",
   "execution_count": 23,
   "metadata": {},
   "outputs": [
    {
     "data": {
      "image/png": "[encoded data removed]",
      "text/plain": [
       "<Figure size 124.724x130.394 with 1 Axes>"
      ]
     },
     "metadata": {},
     "output_type": "display_data"
    }
   ],
   "source": [
    "pgm.render()\n",
    "pgm.savefig(\"pgm_0.svg\")\n",
    "pgm.savefig(\"pgm_0.png\", dpi=300, transparent=True,bbox_inches='tight')"
   ]
  },
  {
   "cell_type": "code",
   "execution_count": 15,
   "metadata": {},
   "outputs": [],
   "source": [
    "# Model_1\n",
    "\n",
    "\n",
    "pgm = daft.PGM()\n",
    "# pgm.add_node(\"theta\", r\"$\\theta$\", 3, 1.5)\n",
    "pgm.add_node(\"z\", r\"$z_n$\", 2, 2)\n",
    "# pgm.add_node(\"psf\", r\"$\\Pi_n$\",1,1, fixed=True)\n",
    "pgm.add_node(\"ps\", r\"$\\Sigma_n$\",1,1.75, fixed=True)\n",
    "pgm.add_node(\"x\", r\"$x_n$\", 2, 1, observed=True) \n",
    "\n",
    "pgm.add_edge(\"z\", \"x\")\n",
    "# pgm.add_edge(\"psf\", \"x\")\n",
    "pgm.add_edge(\"ps\", \"x\")\n",
    "# pgm.add_edge(\"theta\", \"x\")\n",
    "\n",
    "pgm.add_plate([0.5, 0.5, 2, 2], label=r\"$n = 1, \\cdots, N$\", shift=-0.1)"
   ]
  },
  {
   "cell_type": "code",
   "execution_count": 16,
   "metadata": {},
   "outputs": [
    {
     "data": {
      "image/png": "[encoded data removed]",
      "text/plain": [
       "<Figure size 124.724x130.394 with 1 Axes>"
      ]
     },
     "metadata": {},
     "output_type": "display_data"
    }
   ],
   "source": [
    "pgm.render()\n",
    "pgm.savefig(\"pgm_1.svg\")\n",
    "pgm.savefig(\"pgm_1.png\", dpi=300, transparent=True,bbox_inches='tight')"
   ]
  },
  {
   "cell_type": "code",
   "execution_count": 17,
   "metadata": {},
   "outputs": [],
   "source": [
    "# Model 2\n",
    "pgm = daft.PGM()\n",
    "# pgm.add_node(\"theta\", r\"$\\theta$\", 3, 1.5)\n",
    "pgm.add_node(\"z\", r\"$z_n$\", 2, 2)\n",
    "pgm.add_node(\"psf\", r\"$\\Pi_n$\",1,1, fixed=True)\n",
    "pgm.add_node(\"ps\", r\"$\\Sigma_n$\",1,1.75, fixed=True)\n",
    "pgm.add_node(\"x\", r\"$x_n$\", 2, 1, observed=True) \n",
    "\n",
    "pgm.add_edge(\"z\", \"x\")\n",
    "pgm.add_edge(\"psf\", \"x\")\n",
    "pgm.add_edge(\"ps\", \"x\")\n",
    "# pgm.add_edge(\"theta\", \"x\")\n",
    "\n",
    "pgm.add_plate([0.5, 0.5, 2, 2], label=r\"$n = 1, \\cdots, N$\", shift=-0.1)"
   ]
  },
  {
   "cell_type": "code",
   "execution_count": 18,
   "metadata": {},
   "outputs": [
    {
     "data": {
      "image/png": "[encoded data removed]",
      "text/plain": [
       "<Figure size 124.724x130.394 with 1 Axes>"
      ]
     },
     "metadata": {},
     "output_type": "display_data"
    }
   ],
   "source": [
    "pgm.render()\n",
    "pgm.savefig(\"pgm_2.svg\")\n",
    "pgm.savefig(\"pgm_2.png\", dpi=300, transparent=True,bbox_inches='tight')"
   ]
  },
  {
   "cell_type": "code",
   "execution_count": 19,
   "metadata": {},
   "outputs": [],
   "source": [
    "# Model 3\n",
    "pgm = daft.PGM()\n",
    "pgm.add_node(\"theta\", r\"$\\theta$\", 3, 1.5)\n",
    "pgm.add_node(\"z\", r\"$z_n$\", 2, 2)\n",
    "pgm.add_node(\"psf\", r\"$\\Pi_n$\",1,1, fixed=True)\n",
    "pgm.add_node(\"ps\", r\"$\\Sigma_n$\",1,1.75, fixed=True)\n",
    "pgm.add_node(\"x\", r\"$x_n$\", 2, 1, observed=True) \n",
    "\n",
    "pgm.add_edge(\"z\", \"x\")\n",
    "pgm.add_edge(\"psf\", \"x\")\n",
    "pgm.add_edge(\"ps\", \"x\")\n",
    "pgm.add_edge(\"theta\", \"x\")\n",
    "\n",
    "pgm.add_plate([0.5, 0.5, 2, 2], label=r\"$n = 1, \\cdots, N$\", shift=-0.1)"
   ]
  },
  {
   "cell_type": "code",
   "execution_count": 20,
   "metadata": {},
   "outputs": [
    {
     "data": {
      "image/png": "[encoded data removed]",
      "text/plain": [
       "<Figure size 167.244x130.394 with 1 Axes>"
      ]
     },
     "metadata": {},
     "output_type": "display_data"
    }
   ],
   "source": [
    "pgm.render()\n",
    "pgm.savefig(\"pgm_3.svg\")\n",
    "pgm.savefig(\"pgm_3.png\", dpi=300, transparent=True,bbox_inches='tight')"
   ]
  },
  {
   "cell_type": "code",
   "execution_count": null,
   "metadata": {},
   "outputs": [],
   "source": []
  }
 ],
 "metadata": {
  "kernelspec": {
   "display_name": "Python 3",
   "language": "python",
   "name": "python3"
  },
  "language_info": {
   "codemirror_mode": {
    "name": "ipython",
    "version": 3
   },
   "file_extension": ".py",
   "mimetype": "text/x-python",
   "name": "python",
   "nbconvert_exporter": "python",
   "pygments_lexer": "ipython3",
   "version": "3.8.2"
  }
 },
 "nbformat": 4,
 "nbformat_minor": 2
}
